{
 "cells": [
  {
   "cell_type": "markdown",
   "metadata": {},
   "source": [
    "给定一个非空的字符串，判断它是否可以由它的一个子串重复多次构成。给定的字符串只含有小写英文字母，并且长度不超过10000。\n",
    "\n",
    "示例 1:\n",
    "\n",
    "输入: \"abab\"\n",
    "\n",
    "输出: True\n",
    "\n",
    "解释: 可由子字符串 \"ab\" 重复两次构成。\n",
    "示例 2:\n",
    "\n",
    "输入: \"aba\"\n",
    "\n",
    "输出: False\n",
    "示例 3:\n",
    "\n",
    "输入: \"abcabcabcabc\"\n",
    "\n",
    "输出: True\n",
    "\n",
    "解释: 可由子字符串 \"abc\" 重复四次构成。 (或者子字符串 \"abcabc\" 重复两次构成。)\n",
    "\n",
    "来源：力扣（LeetCode）\n",
    "链接：https://leetcode-cn.com/problems/repeated-substring-pattern\n",
    "著作权归领扣网络所有。商业转载请联系官方授权，非商业转载请注明出处。"
   ]
  },
  {
   "cell_type": "code",
   "execution_count": 46,
   "metadata": {},
   "outputs": [],
   "source": [
    "class Solution:\n",
    "    ## version 1: 自己做, 76-100ms，13.5-13.6mb\n",
    "    def repeatedSubstringPattern(self, s: str) -> bool:\n",
    "        ## 返回最终解\n",
    "        Final_return = False\n",
    "        ## 判断 从长度1到int(len(s)/2) 是否存在 子字符串\n",
    "        for rep_length in range(1, int(len(s)/2)+1):\n",
    "            ## 如果不能整除则肯定是false\n",
    "            if len(s)%rep_length == 0:\n",
    "                ## 如果在该 rep_length 中有不符合的 子字符串，则false+break此循环\n",
    "                for i in range(1, int(len(s)/rep_length)):\n",
    "                    if s[:rep_length] == s[rep_length*i:rep_length*(i+1)]:\n",
    "                        Final_return = True\n",
    "                    else:\n",
    "                        Final_return = False\n",
    "                        break\n",
    "            ## 最后判断，仅有在 Final_return = True 且没被改变的时候 最终return True\n",
    "            if Final_return == True:\n",
    "                break\n",
    "        return Final_return\n",
    "    \n",
    "    ## version2 网上简化版本 时间复杂度 O(n**2) 空间复杂度 O(1) 328-372 ms\n",
    "    def repeatedSubstringPattern(self, s: str) -> bool:\n",
    "        n = len(s)\n",
    "        for i in range(1, n // 2 + 1):\n",
    "            if n % i == 0:\n",
    "                ## 注意 if all 的应用 (缺点是 时间复杂度会过高)\n",
    "                if all(s[j] == s[j - i] for j in range(i, n)):\n",
    "                    return True\n",
    "        return False\n",
    "\n",
    "    ## version3：36-56 ms 目前最优解 (数学思路+一行代码，并且用时也最少)\n",
    "    \n",
    "    #假设 s 可由 子串 x 重复 n 次构成，即 s = nx\n",
    "    #则有 s+s = 2nx\n",
    "    #移除 s+s 开头和结尾的字符，变为 (s+s)[1:-1]，则破坏了开头和结尾的子串 x\n",
    "    #此时只剩 2n-2 个子串\n",
    "    #若 s 在 (s+s)[1:-1] 中，则有 2n-2 >= n，即 n >= 2\n",
    "    #即 s 至少可由 x 重复 2 次构成\n",
    "    #否则，n < 2，n 为整数，只能取 1，说明 s 不能由其子串重复多次构成\n",
    "    \n",
    "    ## https://leetcode-cn.com/problems/repeated-substring-pattern/solution/gou-zao-shuang-bei-zi-fu-chuan-by-elevenxx/\n",
    "    \n",
    "    def repeatedSubstringPattern(self, s: str) -> bool:\n",
    "        return s in (s+s)[1:-1]\n",
    "    \n",
    "    ## version4: 44-56 ms\n",
    "    def repeatedSubstringPattern(self, s: str) -> bool:\n",
    "        return (s + s)[1: len(s)*2 -1].find(s) != -1"
   ]
  },
  {
   "cell_type": "code",
   "execution_count": 47,
   "metadata": {},
   "outputs": [
    {
     "data": {
      "text/plain": [
       "True"
      ]
     },
     "execution_count": 47,
     "metadata": {},
     "output_type": "execute_result"
    }
   ],
   "source": [
    "solution = Solution()\n",
    "solution.repeatedSubstringPattern(\"ababab\")"
   ]
  }
 ],
 "metadata": {
  "kernelspec": {
   "display_name": "Python 3",
   "language": "python",
   "name": "python3"
  },
  "language_info": {
   "codemirror_mode": {
    "name": "ipython",
    "version": 3
   },
   "file_extension": ".py",
   "mimetype": "text/x-python",
   "name": "python",
   "nbconvert_exporter": "python",
   "pygments_lexer": "ipython3",
   "version": "3.7.3"
  }
 },
 "nbformat": 4,
 "nbformat_minor": 4
}
