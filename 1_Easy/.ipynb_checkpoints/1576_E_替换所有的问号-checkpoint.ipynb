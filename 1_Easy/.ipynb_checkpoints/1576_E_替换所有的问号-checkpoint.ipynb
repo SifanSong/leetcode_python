{
 "cells": [
  {
   "cell_type": "markdown",
   "metadata": {},
   "source": [
    "给你一个仅包含小写英文字母和 '?' 字符的字符串 s，请你将所有的 '?' 转换为若干小写字母，使最终的字符串不包含任何 连续重复 的字符。\n",
    "\n",
    "注意：你 不能 修改非 '?' 字符。\n",
    "\n",
    "题目测试用例保证 除 '?' 字符 之外，不存在连续重复的字符。\n",
    "\n",
    "在完成所有转换（可能无需转换）后返回最终的字符串。如果有多个解决方案，请返回其中任何一个。可以证明，在给定的约束条件下，答案总是存在的。\n",
    "\n",
    " \n",
    "\n",
    "示例 1：\n",
    "\n",
    "输入：s = \"?zs\"\n",
    "输出：\"azs\"\n",
    "解释：该示例共有 25 种解决方案，从 \"azs\" 到 \"yzs\" 都是符合题目要求的。只有 \"z\" 是无效的修改，因为字符串 \"zzs\" 中有连续重复的两个 'z' 。\n",
    "示例 2：\n",
    "\n",
    "输入：s = \"ubv?w\"\n",
    "输出：\"ubvaw\"\n",
    "解释：该示例共有 24 种解决方案，只有替换成 \"v\" 和 \"w\" 不符合题目要求。因为 \"ubvvw\" 和 \"ubvww\" 都包含连续重复的字符。\n",
    "示例 3：\n",
    "\n",
    "输入：s = \"j?qg??b\"\n",
    "输出：\"jaqgacb\"\n",
    "示例 4：\n",
    "\n",
    "输入：s = \"??yw?ipkj?\"\n",
    "输出：\"acywaipkja\"\n",
    " \n",
    "\n",
    "提示：\n",
    "\n",
    "1 <= s.length <= 100\n",
    "\n",
    "s 仅包含小写英文字母和 '?' 字符\n",
    "\n",
    "来源：力扣（LeetCode）\n",
    "链接：https://leetcode-cn.com/problems/replace-all-s-to-avoid-consecutive-repeating-characters\n",
    "著作权归领扣网络所有。商业转载请联系官方授权，非商业转载请注明出处。"
   ]
  },
  {
   "cell_type": "code",
   "execution_count": 11,
   "metadata": {},
   "outputs": [],
   "source": [
    "import random\n",
    "class Solution:\n",
    "    ## version 1: 自己做, 48ms，13.3-13.4mb, 40 min\n",
    "    def modifyString(self, s: str) -> str:\n",
    "        ## 注意如果是str不能直接 替换相应位置元素\n",
    "        s = list(s)\n",
    "        dictionary = [\"a\",\"b\",\"c\",\"d\",\"e\",\"f\",\"g\",\"h\",\"i\",\"j\",\"k\",\"l\",\n",
    "        \"m\",\"n\",\"o\",\"p\",\"q\",\"r\",\"s\",\"t\",\"u\",\"v\",\"w\",\"x\",\"y\",\"z\"]\n",
    "        for j, rep in enumerate(dictionary):\n",
    "            ## 注意长度 1\n",
    "            if len(s) != 1:\n",
    "                for i, ele in enumerate(s):\n",
    "                    if ele == \"?\":\n",
    "                        s[i] = rep\n",
    "                        ## 注意?在头尾时的分类讨论\n",
    "                        if i == 0:\n",
    "                            while s[i] == s[i+1]:\n",
    "                                j = (j+1)%len(dictionary)\n",
    "                                s[i] = dictionary[j]\n",
    "                        elif i == len(s)-1:\n",
    "                            while s[i] == s[i-1]:\n",
    "                                j = (j+1)%len(dictionary)\n",
    "                                s[i] = dictionary[j]\n",
    "                        else:\n",
    "                            while s[i] == s[i-1] or s[i] == s[i+1]:\n",
    "                                ## 注意不要超了dictionary 长度\n",
    "                                j = (j+1)%len(dictionary)\n",
    "                                s[i] = dictionary[j]\n",
    "            else:\n",
    "                s = rep\n",
    "            return ''.join(s)\n",
    "        \n",
    "    ## version 1: 网上两个好答案的结合, 32-44ms，13.3-13.4mb\n",
    "    def modifyString(self, s: str) -> str:\n",
    "        ## 根据题目的数学解析，仅需要 a b c 三个字母即可完成此任务\n",
    "        alphabet = [\"a\",\"b\",\"c\"]\n",
    "        ## 这里比较关键，通过 前后 padding，可以避免分类讨论，节约代码行数，且不易出错\n",
    "        s = list(f'0{s}0') #s = '0'+s+'0'\n",
    "        for i in range(1, len(s)):\n",
    "            if s[i] == '?':\n",
    "                for char in alphabet:\n",
    "                    if char != s[i-1] and char != s[i+1]:\n",
    "                        s[i] = char\n",
    "                        break\n",
    "        return ''.join(s[1:-1])"
   ]
  },
  {
   "cell_type": "code",
   "execution_count": 12,
   "metadata": {},
   "outputs": [
    {
     "data": {
      "text/plain": [
       "'a'"
      ]
     },
     "execution_count": 12,
     "metadata": {},
     "output_type": "execute_result"
    }
   ],
   "source": [
    "solution = Solution()\n",
    "solution.modifyString(\"?\")"
   ]
  },
  {
   "cell_type": "code",
   "execution_count": 13,
   "metadata": {},
   "outputs": [
    {
     "data": {
      "text/plain": [
       "'jaqgacb'"
      ]
     },
     "execution_count": 13,
     "metadata": {},
     "output_type": "execute_result"
    }
   ],
   "source": [
    "solution.modifyString(\"j?qg??b\")"
   ]
  },
  {
   "cell_type": "code",
   "execution_count": 14,
   "metadata": {},
   "outputs": [
    {
     "data": {
      "text/plain": [
       "'ababababababababababababa'"
      ]
     },
     "execution_count": 14,
     "metadata": {},
     "output_type": "execute_result"
    }
   ],
   "source": [
    "solution.modifyString(\"?????????????????????????\")"
   ]
  },
  {
   "cell_type": "code",
   "execution_count": null,
   "metadata": {},
   "outputs": [],
   "source": []
  }
 ],
 "metadata": {
  "kernelspec": {
   "display_name": "Python 3",
   "language": "python",
   "name": "python3"
  },
  "language_info": {
   "codemirror_mode": {
    "name": "ipython",
    "version": 3
   },
   "file_extension": ".py",
   "mimetype": "text/x-python",
   "name": "python",
   "nbconvert_exporter": "python",
   "pygments_lexer": "ipython3",
   "version": "3.7.3"
  }
 },
 "nbformat": 4,
 "nbformat_minor": 4
}
