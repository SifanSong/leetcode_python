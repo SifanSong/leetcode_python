{
 "cells": [
  {
   "cell_type": "markdown",
   "metadata": {},
   "source": [
    "给你一个字符串 s ，请你根据下面的算法重新构造字符串：\n",
    "\n",
    "从 s 中选出 最小 的字符，将它 接在 结果字符串的后面。\n",
    "从 s 剩余字符中选出 最小 的字符，且该字符比上一个添加的字符大，将它 接在 结果字符串后面。\n",
    "重复步骤 2 ，直到你没法从 s 中选择字符。\n",
    "从 s 中选出 最大 的字符，将它 接在 结果字符串的后面。\n",
    "从 s 剩余字符中选出 最大 的字符，且该字符比上一个添加的字符小，将它 接在 结果字符串后面。\n",
    "重复步骤 5 ，直到你没法从 s 中选择字符。\n",
    "重复步骤 1 到 6 ，直到 s 中所有字符都已经被选过。\n",
    "在任何一步中，如果最小或者最大字符不止一个 ，你可以选择其中任意一个，并将其添加到结果字符串。\n",
    "\n",
    "请你返回将 s 中字符重新排序后的 结果字符串 。\n",
    "\n",
    " \n",
    "\n",
    "示例 1：\n",
    "\n",
    "输入：s = \"aaaabbbbcccc\"\n",
    "输出：\"abccbaabccba\"\n",
    "解释：第一轮的步骤 1，2，3 后，结果字符串为 result = \"abc\"\n",
    "第一轮的步骤 4，5，6 后，结果字符串为 result = \"abccba\"\n",
    "第一轮结束，现在 s = \"aabbcc\" ，我们再次回到步骤 1\n",
    "第二轮的步骤 1，2，3 后，结果字符串为 result = \"abccbaabc\"\n",
    "第二轮的步骤 4，5，6 后，结果字符串为 result = \"abccbaabccba\"\n",
    "示例 2：\n",
    "\n",
    "输入：s = \"rat\"\n",
    "输出：\"art\"\n",
    "解释：单词 \"rat\" 在上述算法重排序以后变成 \"art\"\n",
    "示例 3：\n",
    "\n",
    "输入：s = \"leetcode\"\n",
    "输出：\"cdelotee\"\n",
    "示例 4：\n",
    "\n",
    "输入：s = \"ggggggg\"\n",
    "输出：\"ggggggg\"\n",
    "示例 5：\n",
    "\n",
    "输入：s = \"spo\"\n",
    "输出：\"ops\"\n",
    " \n",
    "\n",
    "提示：\n",
    "\n",
    "1 <= s.length <= 500\n",
    "s 只包含小写英文字母。\n",
    "\n",
    "来源：力扣（LeetCode）\n",
    "链接：https://leetcode-cn.com/problems/increasing-decreasing-string\n",
    "著作权归领扣网络所有。商业转载请联系官方授权，非商业转载请注明出处。"
   ]
  },
  {
   "cell_type": "code",
   "execution_count": 27,
   "metadata": {},
   "outputs": [],
   "source": [
    "class Solution:\n",
    "    ## version 1: 自己做, 128-152ms，13.3-13.4mb, 29min （暴力解法）\n",
    "    def sortString(self, s: str) -> str:\n",
    "        s = list(s)\n",
    "        s_unique = sorted(list(set(s)))\n",
    "        s_unique_reverse = s_unique.copy()\n",
    "        s_unique_reverse.reverse()\n",
    "        ## 用来计数，循环不超过长度\n",
    "        ## 注意要用一个新的list\n",
    "        s_output = []\n",
    "        while s != []:\n",
    "            for tmp_min in s_unique:\n",
    "                try:\n",
    "                    tmp_min_ind = s.index(tmp_min)\n",
    "                    del(s[tmp_min_ind])\n",
    "                    s_output.append(tmp_min)\n",
    "                except:\n",
    "                    ## 注意此处用pass\n",
    "                    pass\n",
    "            for tmp_max in s_unique_reverse:\n",
    "                try:\n",
    "                    tmp_max_ind = s.index(tmp_max)\n",
    "                    del(s[tmp_max_ind])\n",
    "                    s_output.append(tmp_max)\n",
    "                except:\n",
    "                    pass\n",
    "\n",
    "        return ''.join(s_output)\n",
    "\n",
    "import collections\n",
    "\n",
    "class Solution:\n",
    "    ## version 2: 80-100ms，13.3-13.5mb\n",
    "    def sortString(self, s: str) -> str:\n",
    "        chars=collections.Counter(s)\n",
    "        print(chars)\n",
    "        ans=[]\n",
    "        signal=0\n",
    "        while chars:\n",
    "            ## 此处是多想一步得到的好处，可以直接生成每一次降序/生序+重排后的结果\n",
    "            group=list(chars)\n",
    "            print(\"group\", group)\n",
    "            group.sort(reverse=signal)\n",
    "            print(\"group\", group)\n",
    "            ans.extend(group)\n",
    "            print(\"group\", group)\n",
    "            ## 重点！ 相似 dict 可直接的相减的特性\n",
    "            chars-=collections.Counter(group)\n",
    "            print(\"chars\", chars)\n",
    "            ## 通过此处来确定下一个循环 是从大还是从小\n",
    "            signal=1-signal\n",
    "        return ''.join(ans)"
   ]
  },
  {
   "cell_type": "code",
   "execution_count": 28,
   "metadata": {},
   "outputs": [
    {
     "name": "stdout",
     "output_type": "stream",
     "text": [
      "Counter({'t': 1, 'a': 1, 'r': 1})\n",
      "group ['t', 'a', 'r']\n",
      "group ['a', 'r', 't']\n",
      "group ['a', 'r', 't']\n",
      "chars Counter()\n"
     ]
    },
    {
     "data": {
      "text/plain": [
       "'art'"
      ]
     },
     "execution_count": 28,
     "metadata": {},
     "output_type": "execute_result"
    }
   ],
   "source": [
    "solution = Solution()\n",
    "solution.sortString(\"tar\")"
   ]
  },
  {
   "cell_type": "code",
   "execution_count": 29,
   "metadata": {},
   "outputs": [
    {
     "name": "stdout",
     "output_type": "stream",
     "text": [
      "Counter({'e': 3, 'l': 1, 't': 1, 'c': 1, 'o': 1, 'd': 1})\n",
      "group ['l', 'e', 't', 'c', 'o', 'd']\n",
      "group ['c', 'd', 'e', 'l', 'o', 't']\n",
      "group ['c', 'd', 'e', 'l', 'o', 't']\n",
      "chars Counter({'e': 2})\n",
      "group ['e']\n",
      "group ['e']\n",
      "group ['e']\n",
      "chars Counter({'e': 1})\n",
      "group ['e']\n",
      "group ['e']\n",
      "group ['e']\n",
      "chars Counter()\n"
     ]
    },
    {
     "data": {
      "text/plain": [
       "'cdelotee'"
      ]
     },
     "execution_count": 29,
     "metadata": {},
     "output_type": "execute_result"
    }
   ],
   "source": [
    "solution = Solution()\n",
    "solution.sortString(\"leetcode\")"
   ]
  },
  {
   "cell_type": "code",
   "execution_count": null,
   "metadata": {},
   "outputs": [],
   "source": []
  }
 ],
 "metadata": {
  "kernelspec": {
   "display_name": "Python 3",
   "language": "python",
   "name": "python3"
  },
  "language_info": {
   "codemirror_mode": {
    "name": "ipython",
    "version": 3
   },
   "file_extension": ".py",
   "mimetype": "text/x-python",
   "name": "python",
   "nbconvert_exporter": "python",
   "pygments_lexer": "ipython3",
   "version": "3.7.3"
  }
 },
 "nbformat": 4,
 "nbformat_minor": 4
}
