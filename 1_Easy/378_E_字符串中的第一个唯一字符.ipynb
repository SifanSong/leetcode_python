{
 "cells": [
  {
   "cell_type": "markdown",
   "metadata": {},
   "source": [
    "给定一个字符串，找到它的第一个不重复的字符，并返回它的索引。如果不存在，则返回 -1。\n",
    "\n",
    " \n",
    "\n",
    "示例：\n",
    "\n",
    "s = \"leetcode\"\n",
    "返回 0\n",
    "\n",
    "s = \"loveleetcode\"\n",
    "返回 2\n",
    " \n",
    "\n",
    "提示：你可以假定该字符串只包含小写字母。\n",
    "\n",
    "来源：力扣（LeetCode）\n",
    "链接：https://leetcode-cn.com/problems/first-unique-character-in-a-string\n",
    "著作权归领扣网络所有。商业转载请联系官方授权，非商业转载请注明出处。"
   ]
  },
  {
   "cell_type": "code",
   "execution_count": 11,
   "metadata": {},
   "outputs": [],
   "source": [
    "class Solution:\n",
    "    ## version1, 自己做, 循环了一遍多 （400-500ms, 13.7-13.8mb）\n",
    "    def firstUniqChar(self, s: str) -> int:\n",
    "        hashtable = {}\n",
    "        for char in s:\n",
    "            if char in [*hashtable]:\n",
    "                hashtable[char] += 1\n",
    "            else:\n",
    "                hashtable[char] = 0\n",
    "        for char in s:\n",
    "            if hashtable[char] == 0:\n",
    "                return s.index(char)\n",
    "        return -1 \n",
    "    \n",
    "class Solution:\n",
    "\n",
    "    ## version2, 参考 (88ms, 13.7-13.9mb)\n",
    "    def firstUniqChar(self, s: str) -> int:\n",
    "        \"\"\"\n",
    "        :type s: str\n",
    "        :rtype: int\n",
    "        \"\"\"\n",
    "        chaDic = {}\n",
    "        for i, j in enumerate(s):\n",
    "            if not chaDic.get(j):\n",
    "                count = s[i:].count(j)\n",
    "                if count == 1:\n",
    "                    return i\n",
    "                else:\n",
    "                    chaDic[j] = count\n",
    "        return -1\n",
    "    \n",
    "## version 2 和 version 1 的极大速度优势就在于用了 python自带函数 count"
   ]
  },
  {
   "cell_type": "code",
   "execution_count": 12,
   "metadata": {},
   "outputs": [
    {
     "data": {
      "text/plain": [
       "0"
      ]
     },
     "execution_count": 12,
     "metadata": {},
     "output_type": "execute_result"
    }
   ],
   "source": [
    "solution = Solution()\n",
    "solution.firstUniqChar(\"leetcode\")"
   ]
  },
  {
   "cell_type": "code",
   "execution_count": null,
   "metadata": {},
   "outputs": [],
   "source": []
  },
  {
   "cell_type": "markdown",
   "metadata": {},
   "source": [
    "## 考点总结\n",
    "\n",
    "hashtable; 并且直接通过python自带函数 count来给hashtable赋值，更灵活，省下不少时间"
   ]
  }
 ],
 "metadata": {
  "kernelspec": {
   "display_name": "Python 3",
   "language": "python",
   "name": "python3"
  },
  "language_info": {
   "codemirror_mode": {
    "name": "ipython",
    "version": 3
   },
   "file_extension": ".py",
   "mimetype": "text/x-python",
   "name": "python",
   "nbconvert_exporter": "python",
   "pygments_lexer": "ipython3",
   "version": "3.7.3"
  }
 },
 "nbformat": 4,
 "nbformat_minor": 4
}
