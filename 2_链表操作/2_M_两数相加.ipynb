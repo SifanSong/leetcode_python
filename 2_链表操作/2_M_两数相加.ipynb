{
 "cells": [
  {
   "cell_type": "markdown",
   "metadata": {},
   "source": [
    "给出两个 非空 的链表用来表示两个非负的整数。其中，它们各自的位数是按照 逆序 的方式存储的，并且它们的每个节点只能存储 一位 数字。\n",
    "\n",
    "如果，我们将这两个数相加起来，则会返回一个新的链表来表示它们的和。\n",
    "\n",
    "您可以假设除了数字 0 之外，这两个数都不会以 0 开头。\n",
    "\n",
    "示例：\n",
    "\n",
    "输入：(2 -> 4 -> 3) + (5 -> 6 -> 4)\n",
    "输出：7 -> 0 -> 8\n",
    "原因：342 + 465 = 807\n",
    "\n",
    "来源：力扣（LeetCode）\n",
    "链接：https://leetcode-cn.com/problems/add-two-numbers\n",
    "著作权归领扣网络所有。商业转载请联系官方授权，非商业转载请注明出处。"
   ]
  },
  {
   "cell_type": "code",
   "execution_count": 20,
   "metadata": {},
   "outputs": [],
   "source": [
    "## version 2: 分享大佬的答案\n",
    "\n",
    "# Definition for singly-linked list.\n",
    "# class ListNode:\n",
    "#     def __init__(self, x):\n",
    "#         self.val = x\n",
    "#         self.next = None\n",
    "\n",
    "class Solution:\n",
    "    def addTwoNumbers(self, l1: ListNode, l2: ListNode) -> ListNode:\n",
    "        a = ListNode() # 保留完整的链表\n",
    "        l3 = a  # 保留完整的链表\n",
    "        c = 0  # 进位\n",
    "        while l1 or l2:\n",
    "            x=l1.val if l1 else 0  # 没有下一节点时取0\n",
    "            y=l2.val if l2 else 0\n",
    "            tmp = x+y\n",
    "            if tmp+c <10:\n",
    "                l3.next = ListNode(tmp+c)\n",
    "                c=0  # 不进位，清零\n",
    "            else:\n",
    "                l3.next = ListNode(tmp+c-10)\n",
    "                c=1  # 进位，进1\n",
    "            if l1:\n",
    "                l1 = l1.next  # 进入链表的下一节点\n",
    "            if l2:\n",
    "                l2 = l2.next  # 进入链表的下一节点\n",
    "            l3 = l3.next\n",
    "        if c==1:\n",
    "            l3.next = ListNode(1)  # 最后一个进位增加一个末尾节点，元素为1\n",
    "        return a.next  # a的第一个是0，因此去头节点\n"
   ]
  },
  {
   "cell_type": "code",
   "execution_count": null,
   "metadata": {},
   "outputs": [],
   "source": []
  },
  {
   "cell_type": "code",
   "execution_count": null,
   "metadata": {},
   "outputs": [],
   "source": []
  }
 ],
 "metadata": {
  "kernelspec": {
   "display_name": "Python 3",
   "language": "python",
   "name": "python3"
  },
  "language_info": {
   "codemirror_mode": {
    "name": "ipython",
    "version": 3
   },
   "file_extension": ".py",
   "mimetype": "text/x-python",
   "name": "python",
   "nbconvert_exporter": "python",
   "pygments_lexer": "ipython3",
   "version": "3.7.3"
  }
 },
 "nbformat": 4,
 "nbformat_minor": 4
}
