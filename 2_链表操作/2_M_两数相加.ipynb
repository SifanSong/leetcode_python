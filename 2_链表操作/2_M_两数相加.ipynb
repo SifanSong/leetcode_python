{
 "cells": [
  {
   "cell_type": "markdown",
   "metadata": {},
   "source": [
    "给出两个 非空 的链表用来表示两个非负的整数。其中，它们各自的位数是按照 逆序 的方式存储的，并且它们的每个节点只能存储 一位 数字。\n",
    "\n",
    "如果，我们将这两个数相加起来，则会返回一个新的链表来表示它们的和。\n",
    "\n",
    "您可以假设除了数字 0 之外，这两个数都不会以 0 开头。\n",
    "\n",
    "示例：\n",
    "\n",
    "输入：(2 -> 4 -> 3) + (5 -> 6 -> 4)\n",
    "输出：7 -> 0 -> 8\n",
    "原因：342 + 465 = 807\n",
    "\n",
    "来源：力扣（LeetCode）\n",
    "链接：https://leetcode-cn.com/problems/add-two-numbers\n",
    "著作权归领扣网络所有。商业转载请联系官方授权，非商业转载请注明出处。"
   ]
  },
  {
   "cell_type": "code",
   "execution_count": 49,
   "metadata": {},
   "outputs": [],
   "source": [
    "## version 2: 分享大佬的答案\n",
    "# Definition for singly-linked list.\n",
    "# class ListNode:\n",
    "#     def __init__(self, x):\n",
    "#         self.val = x\n",
    "#         self.next = None\n",
    "\n",
    "class Solution:\n",
    "    def addTwoNumbers(self, l1: ListNode, l2: ListNode) -> ListNode:\n",
    "        head = ListNode(0)  #头结点，无存储，指向链表第一个结点\n",
    "        node = head         #初始化链表结点\n",
    "        carry = 0           #初始化 进一 的数\n",
    "        while l1 or l2:\n",
    "            x = l1.val if l1 else 0\n",
    "            print(x)\n",
    "            y = l2.val if l2 else 0\n",
    "            print(y)\n",
    "            sum = x + y + carry              # 对每一位求和\n",
    "            carry = sum // 10                # 地板除，求进一（其为0或1）\n",
    "            node.next = ListNode(sum % 10)   # 取余数，求本位结点\n",
    "            if l1:                           # 求空否，防止出现无后继结点\n",
    "                l1 = l1.next       \n",
    "            if l2:                           # 同上\n",
    "                l2 = l2.next\n",
    "            node = node.next                 # 更新指针\n",
    "        if carry != 0:                       # 验证最后一位相加是否需 进一\n",
    "            node.next = ListNode(1)\n",
    "        return head.next                     # 返回头结点的下一个结点，即链表的第一个结点\n",
    "\n",
    "## version 3: 分享大佬的答案, 且可在本地运行\n",
    "## https://leetcode-cn.com/problems/add-two-numbers/solution/python3ti-jie-fang-leetcodeguan-fang-lei-listnoded/\n",
    "# Definition for singly-linked list.\n",
    "class ListNode():\n",
    "    def __init__(self, val):\n",
    "        if isinstance(val,int):\n",
    "            self.val = val\n",
    "            self.next = None\n",
    "            \n",
    "        elif isinstance(val,list):\n",
    "            self.val = val[0]\n",
    "            self.next = None\n",
    "            cur = self\n",
    "            for i in val[1:]:\n",
    "                cur.next = ListNode(i)\n",
    "                cur = cur.next\n",
    "    \n",
    "    def gatherAttrs(self):\n",
    "        return \", \".join(\"{}: {}\".format(k, getattr(self, k)) for k in self.__dict__.keys())\n",
    "\n",
    "    def __str__(self):\n",
    "            return self.__class__.__name__+\" {\"+\"{}\".format(self.gatherAttrs())+\"}\"\n",
    "\n",
    "\n",
    "class Solution:\n",
    "    def addTwoNumbers(self, l1: ListNode, l2: ListNode) -> ListNode:\n",
    "        if isinstance(l1,list):\n",
    "            l1 = ListNode(l1)\n",
    "            l2 = ListNode(l2)\n",
    "        re = ListNode(0)\n",
    "        r=re\n",
    "        carry=0\n",
    "        while(l1 or l2):\n",
    "            x= l1.val if l1 else 0\n",
    "            y= l2.val if l2 else 0\n",
    "            s=carry+x+y\n",
    "            carry=s//10\n",
    "            r.next=ListNode(s%10)\n",
    "            r=r.next\n",
    "            if(l1!=None):l1=l1.next\n",
    "            if(l2!=None):l2=l2.next\n",
    "        if(carry>0):\n",
    "            r.next=ListNode(1)\n",
    "        return re.next"
   ]
  },
  {
   "cell_type": "code",
   "execution_count": 50,
   "metadata": {},
   "outputs": [
    {
     "name": "stdout",
     "output_type": "stream",
     "text": [
      "ListNode {val: 0, next: ListNode {val: 1, next: ListNode {val: 1, next: None}}}\n"
     ]
    }
   ],
   "source": [
    "solution = Solution()\n",
    "print(solution.addTwoNumbers([1,1],[9,9]))"
   ]
  },
  {
   "cell_type": "code",
   "execution_count": null,
   "metadata": {},
   "outputs": [],
   "source": []
  },
  {
   "cell_type": "code",
   "execution_count": null,
   "metadata": {},
   "outputs": [],
   "source": []
  }
 ],
 "metadata": {
  "kernelspec": {
   "display_name": "Python 3",
   "language": "python",
   "name": "python3"
  },
  "language_info": {
   "codemirror_mode": {
    "name": "ipython",
    "version": 3
   },
   "file_extension": ".py",
   "mimetype": "text/x-python",
   "name": "python",
   "nbconvert_exporter": "python",
   "pygments_lexer": "ipython3",
   "version": "3.7.3"
  }
 },
 "nbformat": 4,
 "nbformat_minor": 4
}
