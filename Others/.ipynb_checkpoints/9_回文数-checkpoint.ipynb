{
 "cells": [
  {
   "cell_type": "markdown",
   "metadata": {},
   "source": [
    "判断一个整数是否是回文数。回文数是指正序（从左向右）和倒序（从右向左）读都是一样的整数。\n",
    "\n",
    "示例 1:\n",
    "\n",
    "输入: 121  \n",
    "输出: true  \n",
    "示例 2:  \n",
    "\n",
    "输入: -121  \n",
    "输出: false  \n",
    "解释: 从左向右读, 为 -121 。 从右向左读, 为 121- 。因此它不是一个回文数。  \n",
    "示例 3:  \n",
    "\n",
    "输入: 10  \n",
    "输出: false  \n",
    "解释: 从右向左读, 为 01 。因此它不是一个回文数。  \n",
    "进阶:  \n",
    "\n",
    "你能不将整数转为字符串来解决这个问题吗？"
   ]
  },
  {
   "cell_type": "code",
   "execution_count": 12,
   "metadata": {},
   "outputs": [],
   "source": [
    "class Solution:\n",
    "    ## version1 用到了 转化 str\n",
    "    def isPalindrome(self, x: int) -> bool:\n",
    "        if x < 0:\n",
    "            return False\n",
    "        else:\n",
    "            pali_num = 0\n",
    "            x = str(x)\n",
    "            for index in range(int(len(x)/2)):\n",
    "                ## 注意\n",
    "                if x[index] == x[-(index+1)]:\n",
    "                    pali_num += 1\n",
    "            if pali_num == int(len(x)/2):\n",
    "                return True\n",
    "            else:\n",
    "                return False\n",
    "## 这个方法中 很多筛选条件是多余的，更好的是直接 return str(x) == str(x)[::-1] \n",
    "\n",
    "## version2 \n",
    "class Solution:\n",
    "    def isPalindrome(self, x: int) -> bool:\n",
    "        #方法一，转成字符串\n",
    "        '''\n",
    "        return str(x) == str(x)[::-1]\n",
    "        '''\n",
    "        #方法二,不用转成字符串的方式\n",
    "        if x < 0: return False\n",
    "        a, b = x, 0\n",
    "        while a != 0:\n",
    "            print(a, b)\n",
    "            b = b * 10 + a % 10\n",
    "            a = a // 10\n",
    "        return b == x"
   ]
  },
  {
   "cell_type": "code",
   "execution_count": 13,
   "metadata": {},
   "outputs": [
    {
     "name": "stdout",
     "output_type": "stream",
     "text": [
      "1241 0\n",
      "124 1\n",
      "12 14\n",
      "1 142\n"
     ]
    },
    {
     "data": {
      "text/plain": [
       "False"
      ]
     },
     "execution_count": 13,
     "metadata": {},
     "output_type": "execute_result"
    }
   ],
   "source": [
    "solution = Solution()\n",
    "solution.isPalindrome(x = 1241)"
   ]
  },
  {
   "cell_type": "code",
   "execution_count": null,
   "metadata": {},
   "outputs": [],
   "source": []
  },
  {
   "cell_type": "markdown",
   "metadata": {},
   "source": [
    "## 考点总结\n",
    "\n",
    "将int转化为反向的方式 b = b * 10 + a % 10，考察的点同 7题"
   ]
  },
  {
   "cell_type": "code",
   "execution_count": 11,
   "metadata": {},
   "outputs": [
    {
     "data": {
      "text/plain": [
       "11"
      ]
     },
     "execution_count": 11,
     "metadata": {},
     "output_type": "execute_result"
    }
   ],
   "source": [
    "115//10"
   ]
  },
  {
   "cell_type": "code",
   "execution_count": null,
   "metadata": {},
   "outputs": [],
   "source": []
  }
 ],
 "metadata": {
  "kernelspec": {
   "display_name": "Python 3",
   "language": "python",
   "name": "python3"
  },
  "language_info": {
   "codemirror_mode": {
    "name": "ipython",
    "version": 3
   },
   "file_extension": ".py",
   "mimetype": "text/x-python",
   "name": "python",
   "nbconvert_exporter": "python",
   "pygments_lexer": "ipython3",
   "version": "3.7.3"
  }
 },
 "nbformat": 4,
 "nbformat_minor": 4
}
