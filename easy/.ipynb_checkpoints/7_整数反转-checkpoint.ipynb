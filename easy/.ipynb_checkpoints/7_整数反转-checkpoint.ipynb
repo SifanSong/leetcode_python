{
 "cells": [
  {
   "cell_type": "raw",
   "metadata": {},
   "source": [
    "给出一个 32 位的有符号整数，你需要将这个整数中每位上的数字进行反转。\n",
    "\n",
    "示例 1:  \n",
    "\n",
    "输入: 123  \n",
    "输出: 321  \n",
    " 示例 2:  \n",
    "\n",
    "输入: -123  \n",
    "输出: -321  \n",
    "示例 3:  \n",
    "\n",
    "输入: 120  \n",
    "输出: 21  \n",
    "注意:  \n",
    "\n",
    "假设我们的环境只能存储得下 32 位的有符号整数，则其数值范围为 [−231,  231 − 1]。请根据这个假设，如果反转后整数溢出那么就返回 0。\n"
   ]
  },
  {
   "cell_type": "code",
   "execution_count": 1,
   "metadata": {},
   "outputs": [],
   "source": [
    "class Solution:\n",
    "    ## version 1\n",
    "    def reverse(self, x: int) -> int:\n",
    "        if x >= 0:\n",
    "            x = str(x)\n",
    "            x = x[::-1]\n",
    "            while x[0] == 0:\n",
    "                x = x[1:]\n",
    "            if int(x) >= 2147483647 or int(x) <= -2147483647:\n",
    "                return 0\n",
    "            else:\n",
    "                return int(x)\n",
    "        elif x < 0:\n",
    "            x *= -1\n",
    "            x = str(x)\n",
    "            x = x[::-1]\n",
    "            while x[0] == 0:\n",
    "                x = x[1:]\n",
    "            if int(x) >= 2147483647 or int(x) <= -2147483647:\n",
    "                return 0\n",
    "            else:\n",
    "                return int(x) * -1\n",
    "\n",
    "    ## version 2\n",
    "    ## 代码简洁，整体比 version 1 快了\n",
    "    def reverse(self, x: int) -> int:\n",
    "        isPos = False\n",
    "        if x >= 0:\n",
    "            isPos = True\n",
    "        x = str(abs(x))\n",
    "        x = x[::-1]\n",
    "        while x[0] == 0:\n",
    "            x = x[1:]\n",
    "        if int(x) >= 2147483647 or int(x) <= -2147483647:\n",
    "            return 0\n",
    "        else:\n",
    "            if isPos == True:\n",
    "                return int(x)\n",
    "            else:\n",
    "                return int(x) * -1\n",
    "\n",
    "    ## version 3\n",
    "    ## 虽然整体 时间和内存没有特别大的节约，但是应该为真正需要考察的点\n",
    "    def reverse(self, x):\n",
    "        y, res = abs(x), 0\n",
    "        # 则其数值范围为 [−2^31,  2^31 − 1]\n",
    "        boundry = (1<<31) -1 if x>0 else 1<<31\n",
    "        while y != 0:\n",
    "            res = res*10 +y%10\n",
    "            if res > boundry :\n",
    "                return 0\n",
    "            y //=10\n",
    "        return res if x >0 else -res"
   ]
  },
  {
   "cell_type": "code",
   "execution_count": 2,
   "metadata": {},
   "outputs": [
    {
     "data": {
      "text/plain": [
       "1421"
      ]
     },
     "execution_count": 2,
     "metadata": {},
     "output_type": "execute_result"
    }
   ],
   "source": [
    "solution = Solution()\n",
    "solution.reverse(x = 1241)"
   ]
  },
  {
   "cell_type": "code",
   "execution_count": null,
   "metadata": {},
   "outputs": [],
   "source": []
  },
  {
   "cell_type": "markdown",
   "metadata": {},
   "source": [
    "## 考点总结\n",
    "\n",
    "将int转化为反向的方式 b = b * 10 + a % 10，考察的点同 9题"
   ]
  },
  {
   "cell_type": "code",
   "execution_count": null,
   "metadata": {},
   "outputs": [],
   "source": []
  }
 ],
 "metadata": {
  "kernelspec": {
   "display_name": "Python 3",
   "language": "python",
   "name": "python3"
  },
  "language_info": {
   "codemirror_mode": {
    "name": "ipython",
    "version": 3
   },
   "file_extension": ".py",
   "mimetype": "text/x-python",
   "name": "python",
   "nbconvert_exporter": "python",
   "pygments_lexer": "ipython3",
   "version": "3.7.3"
  }
 },
 "nbformat": 4,
 "nbformat_minor": 4
}
