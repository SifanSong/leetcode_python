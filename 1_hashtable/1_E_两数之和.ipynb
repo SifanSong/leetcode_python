{
 "cells": [
  {
   "cell_type": "markdown",
   "metadata": {},
   "source": [
    "给定一个整数数组 nums 和一个目标值 target，请你在该数组中找出和为目标值的那 两个 整数，并返回他们的数组下标。\n",
    "\n",
    "你可以假设每种输入只会对应一个答案。但是，数组中同一个元素不能使用两遍。\n",
    "\n",
    "\n",
    "示例:\n",
    "\n",
    "给定 nums = [2, 7, 11, 15], target = 9  \n",
    "\n",
    "因为 nums[0] + nums[1] = 2 + 7 = 9  \n",
    "所以返回 [0, 1]  \n"
   ]
  },
  {
   "cell_type": "code",
   "execution_count": 2,
   "metadata": {},
   "outputs": [],
   "source": [
    "class Solution:\n",
    "    ## version1\n",
    "    def twoSum(self, nums, target):\n",
    "        '''\n",
    "        nums: List[int]\n",
    "        target: int\n",
    "        return: List[int]\n",
    "        '''\n",
    "        hashmap = {}\n",
    "        for id1, num1 in enumerate(nums):\n",
    "            if target - num1 in hashmap:\n",
    "                #id2 = hashmap[num2]\n",
    "                ## 因为之前先存入的为 第一个输出，在这个if中的id应该为第二个输出\n",
    "                return [hashmap[target - num1], id1]\n",
    "            hashmap[num1] = id1\n",
    "        return None\n",
    "\n",
    "    ## version2\n",
    "    def twoSum(self, nums, target):\n",
    "        hashset={}\n",
    "        for i in range(len(nums)):\n",
    "            if hashset.get(target-nums[i]) is not None :\n",
    "                return [hashset.get(target-nums[i]),i]\n",
    "            hashset[nums[i]]=i\n",
    "            "
   ]
  },
  {
   "cell_type": "code",
   "execution_count": 5,
   "metadata": {},
   "outputs": [
    {
     "data": {
      "text/plain": [
       "[0, 3]"
      ]
     },
     "execution_count": 5,
     "metadata": {},
     "output_type": "execute_result"
    }
   ],
   "source": [
    "solution = Solution()\n",
    "solution.twoSum([1,3, 6,5], 6)"
   ]
  },
  {
   "cell_type": "code",
   "execution_count": null,
   "metadata": {},
   "outputs": [],
   "source": []
  },
  {
   "cell_type": "markdown",
   "metadata": {},
   "source": [
    "## 考点总结\n",
    "\n",
    "hashtable"
   ]
  },
  {
   "cell_type": "code",
   "execution_count": null,
   "metadata": {},
   "outputs": [],
   "source": []
  }
 ],
 "metadata": {
  "kernelspec": {
   "display_name": "Python 3",
   "language": "python",
   "name": "python3"
  },
  "language_info": {
   "codemirror_mode": {
    "name": "ipython",
    "version": 3
   },
   "file_extension": ".py",
   "mimetype": "text/x-python",
   "name": "python",
   "nbconvert_exporter": "python",
   "pygments_lexer": "ipython3",
   "version": "3.7.3"
  }
 },
 "nbformat": 4,
 "nbformat_minor": 4
}
